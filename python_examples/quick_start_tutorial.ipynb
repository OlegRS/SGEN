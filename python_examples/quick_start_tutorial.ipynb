{
 "cells": [
  {
   "cell_type": "markdown",
   "id": "7db8d477",
   "metadata": {},
   "source": [
    "# SGEN_Py Quick Start tutorial"
   ]
  },
  {
   "cell_type": "markdown",
   "id": "225ec4f5",
   "metadata": {},
   "source": [
    "## About\n",
    "SGEN_Py (Stochastic Gene Expression in Neurons) is a Python module that allows computing the first and second moments of active gene, mRNA and protein counts everywhere in arbitrary neurons. It does so by solving a linear stochastic model of gene->mRNA->protein dynamics. The module can also be used to run a Monte Carlo simulation of the underlying stochastic process, which can be used as a generative model of protein noise. However, the real strength of this software is its ability to obtain expectations and correlations of all variables in the model without expensive Monte Carlo simulation.\n",
    "\n",
    "In this tutorial, we will:\n",
    "- Manually construct a simple neuron\n",
    "- Compute stationary expectations and correlations of all variables: active gene counts, mRNA counts and protein counts\n",
    "- Visualise the computed distributions\n",
    "- Run the Gillespie algorithm on this simple neuron\n",
    "- Load a neuron from .swc file\n",
    "- Visualise the neuron and the computed mRNA/protein distributions\n"
   ]
  },
  {
   "cell_type": "markdown",
   "id": "082c7762",
   "metadata": {},
   "source": [
    "## Manual neuron creation\n",
    "#### Importing dependencies"
   ]
  },
  {
   "cell_type": "code",
   "execution_count": 1,
   "id": "74bd1ee0",
   "metadata": {},
   "outputs": [],
   "source": [
    "import sys\n",
    "sys.path.append('../')\n",
    "\n",
    "import SGEN_Py as sg\n",
    "import numpy as np"
   ]
  },
  {
   "cell_type": "markdown",
   "id": "797e2ec1",
   "metadata": {},
   "source": [
    "### \"Growing\" a neuron\n",
    "Below, we create a Y-shaped neuron consisting of a cylindrical soma with a radius and length of 20$\\mu m$ and a dendrite with a single fork, with every dendritic branch having a length of 200$\\mu m$.\n",
    "#### Creating a soma\n",
    "In SGEN a neuron is a tree of compartments starting from the soma. "
   ]
  },
  {
   "cell_type": "code",
   "execution_count": 2,
   "id": "92a77776",
   "metadata": {},
   "outputs": [],
   "source": [
    "# Create a soma with desired parameters and location\n",
    "soma = sg.Soma(\"soma\", length=20, x=0, y=0, z=0, radius=20, protein_forward_trafficking_velocity=.001)"
   ]
  },
  {
   "cell_type": "markdown",
   "id": "f4934765",
   "metadata": {},
   "source": [
    "#### Creating a primary dendritic branch\n",
    "When creating a compartment other than soma, we must pass its parent (i.e., the compartment it attaches to) to its constructor. A dendritic branch (a piece of dendrite without branching) can be represented as a list of dendritic segments used for discretisation. (The larger the number of dendritic segments, the closer the model is to a continuum, but the harder it is to compute.) Let's initialise the primary (directly attached to the soma) dendritic branch by attaching a dendritic segment to the soma."
   ]
  },
  {
   "cell_type": "code",
   "execution_count": 3,
   "id": "f92b5974",
   "metadata": {},
   "outputs": [],
   "source": [
    "# Define the length of a single dendritic branch\n",
    "Dendrite_length = 200 #um\n",
    "# Define the number of cylindrical segments to discretise dendritic branches\n",
    "N_dendritic_segments = 15"
   ]
  },
  {
   "cell_type": "code",
   "execution_count": 4,
   "id": "542f5cf5",
   "metadata": {},
   "outputs": [],
   "source": [
    "# Initialise a primary dendritic branch\n",
    "primary_branch = [sg.Dendritic_segment(parent=soma,\n",
    "                                       name = \"d_1-1\",\n",
    "                                       length = Dendrite_length/N_dendritic_segments)]"
   ]
  },
  {
   "cell_type": "markdown",
   "id": "335f863a",
   "metadata": {},
   "source": [
    "In the above code, we created a list containing one dendritic segment with a certain name and length attached to the soma. See help for all possible constructor arguments including rates of mRNA/protein dynamics.\n",
    "\n",
    "Now let's create more dendritic segments to obtain the entire primary dendritic branch of length 200$\\mu m$."
   ]
  },
  {
   "cell_type": "code",
   "execution_count": 5,
   "id": "45e93472",
   "metadata": {},
   "outputs": [],
   "source": [
    "# Adding dendritic segments to the primary dendritic branch\n",
    "for i in np.arange(1,N_dendritic_segments):\n",
    "    primary_branch.append(sg.Dendritic_segment(parent=primary_branch[-1],\n",
    "                                               name=f\"d_1-{i+1}\",\n",
    "                                               length=Dendrite_length/N_dendritic_segments))"
   ]
  },
  {
   "cell_type": "markdown",
   "id": "ee790995",
   "metadata": {},
   "source": [
    "In the above code, we created the primary dendritic branch as a list of short dendritic segments, where every next segment attaches to the previous one.\n",
    "\n",
    "Now let's fork the dendrite and create two secondary dendritic branches attaching them to the last segment of the primary branch created above."
   ]
  },
  {
   "cell_type": "code",
   "execution_count": 6,
   "id": "602cb2b1",
   "metadata": {},
   "outputs": [],
   "source": [
    "# Initialise 1st secondary dendritic branch\n",
    "secondary_branch_1 = [sg.Dendritic_segment(parent=primary_branch[-1],\n",
    "                                           name=\"d_1_1-1\",\n",
    "                                           length=Dendrite_length/N_dendritic_segments,\n",
    "                                           d_theta=30*np.pi/360,\n",
    "                                           d_phi=0)]\n",
    "# Adding dendritic segments to the 1st secondary dendritic branch\n",
    "for i in np.arange(1,N_dendritic_segments):\n",
    "    secondary_branch_1.append(sg.Dendritic_segment(parent=secondary_branch_1[-1],\n",
    "                                                   name=f\"d_1_1-{i+1}\",\n",
    "                                                   length=Dendrite_length/N_dendritic_segments))\n",
    "\n",
    "# Initialise 2nd secondary dendritic branch\n",
    "secondary_branch_2 = [sg.Dendritic_segment(parent=primary_branch[-1],\n",
    "                                           name=\"d_1_1-1\",\n",
    "                                           length=Dendrite_length/N_dendritic_segments,\n",
    "                                           d_theta=-30*np.pi/360,\n",
    "                                           d_phi=0)]\n",
    "# Adding dendritic segments to the 2nd secondary dendritic branch\n",
    "for i in np.arange(1,N_dendritic_segments):\n",
    "    secondary_branch_2.append(sg.Dendritic_segment(parent=secondary_branch_2[-1],\n",
    "                                                   name=f\"d_1_1-{i+1}\",\n",
    "                                                   length=Dendrite_length/N_dendritic_segments,\n",
    "                                                   radius=5*np.exp(-1/50*i)))"
   ]
  },
  {
   "cell_type": "markdown",
   "id": "ff061585",
   "metadata": {},
   "source": [
    "Note that we specified the parameters d_theta and d_phi, corresponding to the difference in the spherical coordinates ($\\theta$ and $\\phi$) compared to the parent compartment. These angular differences are set to zero by default, so if they are not specified, the dendrite grows in a straight line. "
   ]
  },
  {
   "cell_type": "markdown",
   "id": "37afae1e",
   "metadata": {},
   "source": [
    "Now let's \"grow\" a dendritic spine on our primary dendrite at roughly 1/3 of its length."
   ]
  },
  {
   "cell_type": "code",
   "execution_count": 7,
   "id": "0762925e",
   "metadata": {},
   "outputs": [],
   "source": [
    "# Creating a dendritic spine on the primary branch\n",
    "s_1_1 = sg.Spine(parent=primary_branch[N_dendritic_segments//3],\n",
    "                 name=\"s_1_1\",\n",
    "                 length=10,\n",
    "                 radius=1)"
   ]
  },
  {
   "cell_type": "markdown",
   "id": "33803a82",
   "metadata": {},
   "source": [
    "Now let's add five more spines at different locations and on different branches."
   ]
  },
  {
   "cell_type": "code",
   "execution_count": 8,
   "id": "de2097e5",
   "metadata": {},
   "outputs": [],
   "source": [
    "# Adding more spines, some of which grow in opposite direction (d_theta=-np.pi/2)\n",
    "s_1_2 = sg.Spine(parent=primary_branch[2*N_dendritic_segments//3],\n",
    "                 name=\"s_1_2\",\n",
    "                 length=10,\n",
    "                 radius=1,\n",
    "                 d_theta=-np.pi/2)\n",
    "s_11_1 = sg.Spine(parent=secondary_branch_1[N_dendritic_segments//3],\n",
    "                  name = \"s_11_1\",\n",
    "                  length=10,\n",
    "                  radius=1)\n",
    "s_11_2 = sg.Spine(parent=secondary_branch_1[2*N_dendritic_segments//3],\n",
    "                  name = \"s_11_2\",\n",
    "                  length=10,\n",
    "                  radius=1,\n",
    "                  d_theta=-np.pi/2)\n",
    "s_12_1 = sg.Spine(parent=secondary_branch_2[N_dendritic_segments//3],\n",
    "                  name=\"s_12_1\",\n",
    "                  length=10,\n",
    "                  radius=1,\n",
    "                  d_theta=-np.pi/2)\n",
    "s_12_2 = sg.Spine(parent=secondary_branch_2[2*N_dendritic_segments//3],\n",
    "                  name=\"s_12_2\",\n",
    "                  length=10,\n",
    "                  radius=1)"
   ]
  },
  {
   "cell_type": "markdown",
   "id": "d01c515e",
   "metadata": {},
   "source": [
    "### Initialising a neuron\n",
    "Now that the tree of compartments is ready, we can initialise the instance of class Neuron that provides the main functionality of the library. For that, we pass the soma to the constructor of the Neuron class."
   ]
  },
  {
   "cell_type": "code",
   "execution_count": 9,
   "id": "de2fc224",
   "metadata": {},
   "outputs": [],
   "source": [
    "neuron = sg.Neuron(soma, \"Test_neuron\")"
   ]
  },
  {
   "cell_type": "markdown",
   "id": "713b5f20",
   "metadata": {},
   "source": [
    "### Visualisation"
   ]
  },
  {
   "cell_type": "markdown",
   "id": "1014acb7",
   "metadata": {},
   "source": [
    "Now let's visualise our neuron."
   ]
  },
  {
   "cell_type": "code",
   "execution_count": 10,
   "id": "99c460a2",
   "metadata": {},
   "outputs": [],
   "source": [
    "neuron.draw_3d()"
   ]
  },
  {
   "cell_type": "markdown",
   "id": "cf2e5d38",
   "metadata": {},
   "source": [
    "## Stationary gene-mRNA-protein moments"
   ]
  },
  {
   "cell_type": "markdown",
   "id": "0ca748a4",
   "metadata": {},
   "source": [
    "The expectations of all variables in the model can be computed as follows."
   ]
  },
  {
   "cell_type": "code",
   "execution_count": 11,
   "id": "e48991f9",
   "metadata": {},
   "outputs": [],
   "source": [
    "# Computing expectations of all variables in the model\n",
    "expectations = neuron.expected_counts(dict_return=True)\n",
    "print(expectations)"
   ]
  },
  {
   "cell_type": "markdown",
   "id": "a6419c1e",
   "metadata": {},
   "source": [
    "Expectations is a dictionary with the following keys."
   ]
  },
  {
   "cell_type": "code",
   "execution_count": 12,
   "id": "0cf362af",
   "metadata": {},
   "outputs": [],
   "source": [
    "print(expectations.keys())"
   ]
  },
  {
   "cell_type": "markdown",
   "id": "70019929",
   "metadata": {},
   "source": [
    "If run with dict_return=True, neuron.expected_counts(dict_return=True) returns dictionaries for 'mRNA' and 'prot', whose keys correspond to compartment names. (Since all genes reside in the soma, there is no need to return the dictionary for the expected number of active genes, which can simply be accessed by the 'gene' key.) So the expected mRNA/protein counts in different compartments can be obtained as follows."
   ]
  },
  {
   "cell_type": "code",
   "execution_count": 13,
   "id": "5b3ac95e",
   "metadata": {},
   "outputs": [],
   "source": [
    "print('Expected number of active genes:', expectations['gene'])\n",
    "print('Expected mRNA counts in the soma:', expectations['mRNA']['soma'])\n",
    "print('Expected mRNA counts in d_1_1-3:', expectations['mRNA']['d_1_1-3'])\n",
    "print('Expected protein counts in d_1_1-5:', expectations['prot']['d_1_1-5'])"
   ]
  },
  {
   "cell_type": "markdown",
   "id": "f7b832f5",
   "metadata": {},
   "source": [
    "#### Visualisation of concentrations\n",
    "Expected concentrations are obtained by dividing the expected molecule counts by the volumes of the corresponding volumes as follows."
   ]
  },
  {
   "cell_type": "code",
   "execution_count": 14,
   "id": "463c5167",
   "metadata": {},
   "outputs": [],
   "source": [
    "# Computing protein concentrations\n",
    "concentrations = neuron.expected_counts()['prot']/neuron.volumes()\n",
    "print(neuron.volumes())\n",
    "print(concentrations)"
   ]
  },
  {
   "cell_type": "markdown",
   "id": "752d60f2",
   "metadata": {},
   "source": [
    "Note that in the above code, we call neuron.expected_counts() with default dict_return=False, so that neuron.expected_counts()['prot'] returns a numpy array that can be divided by a numpy array of volumes of all compartments ordered in the same order, neuron.volumes().\n",
    "Now we can visualise protein concentrations as follows."
   ]
  },
  {
   "cell_type": "code",
   "execution_count": 15,
   "id": "1d339e62",
   "metadata": {},
   "outputs": [],
   "source": [
    "neuron.draw_3d(concentrations)"
   ]
  },
  {
   "cell_type": "markdown",
   "id": "68ecc2d5",
   "metadata": {},
   "source": [
    "### Stationary correlations\n",
    "Now we compute stationary correlations (2nd moments) of all variables in the model defined as $\\langle A\\cdot B \\rangle$ for variables $A$ and $B$, where $\\langle ... \\rangle$ stands for expectation (ensemble average)."
   ]
  },
  {
   "cell_type": "code",
   "execution_count": 16,
   "id": "96e9ca12",
   "metadata": {},
   "outputs": [],
   "source": [
    "correlations = neuron.correlations()"
   ]
  },
  {
   "cell_type": "markdown",
   "id": "a81e3e95",
   "metadata": {},
   "source": [
    "In our model, there are six types of correlations: gene-gene, gene-mRNA, mRNA-mRNA, gene-protein, mRNA-protein and protein-protein. Therefore, neuron.correlations() returns stationary correlations as a dictionary with the following keys.\n",
    "\n",
    "Protein-protein correlators turn out to be computationally hardest to compute and the exact method involving matrix inversion scales as $\\mathcal O(N^4)$ in memory consumption and $\\mathcal O(N^6)$ in time, where $N$ is the number of compartments."
   ]
  },
  {
   "cell_type": "code",
   "execution_count": 17,
   "id": "e7fd3f53",
   "metadata": {},
   "outputs": [],
   "source": [
    "print(correlations.keys())"
   ]
  },
  {
   "cell_type": "markdown",
   "id": "f2a24cfd",
   "metadata": {},
   "source": [
    "Let's look at some of the correlation matrices."
   ]
  },
  {
   "cell_type": "code",
   "execution_count": 18,
   "id": "deafdc53",
   "metadata": {},
   "outputs": [],
   "source": [
    "# gene-gene correlation is just a single number\n",
    "print('Active gene count correlation:', correlations['gene-gene'])\n",
    "# gene-mRNA and gene-protein correlations are vectors\n",
    "print('Correlations of active gene count with mRNA counts:\\n', correlations['gene-mRNA'])\n",
    "# mRNA-mRNA, mRNA-protein and protein-protein correlations are matrices of different sizes\n",
    "print('Correlation matrix of protein counts with protein counts:\\n', correlations['prot-prot'])\n",
    "# Note that mRNA-protein correlation matrix is not square in the presence of spines.\n",
    "# This comes from the assumption that spines don't have mRNAs (which we may change). \n",
    "print('Shape of correlations of mRNA counts with protein counts:\\n', correlations['mRNA-prot'].shape)"
   ]
  },
  {
   "cell_type": "markdown",
   "id": "ae9eaef8",
   "metadata": {},
   "source": [
    "Now that the first and second moments of gene, mRNA and protein counts are computed and stored within the neuron, we can use them to compute variances, standard deviations and Pearson correlation coefficients as shown below."
   ]
  },
  {
   "cell_type": "code",
   "execution_count": 19,
   "id": "879a57b3",
   "metadata": {},
   "outputs": [],
   "source": [
    "# Examples of computing Pearson Correlation Coefficients\n",
    "print('Pearson correlation coefficient of protein counts in spinces s_1_1 and s_12_2 = ', neuron.prot_prot_Pearson_correlation(s_1_1, s_12_2))\n",
    "print('Pearson correlation coefficient of mRNA counts in the soma and protein counts in spine s_12_2 = ', neuron.mRNA_prot_Pearson_correlation(soma, s_12_2))\n",
    "print('Pearson correlation coefficient of mRNA counts in the soma and the farthest dendritic segment = ', neuron.mRNA_prot_Pearson_correlation(soma, secondary_branch_2[-1]))"
   ]
  },
  {
   "cell_type": "markdown",
   "id": "8cd7e25e",
   "metadata": {},
   "source": [
    "Therefore, if we want to compute the matrix of Pearson correlation coefficients of protein counts in all segments of the primary dendritic branch, we can do it as follows."
   ]
  },
  {
   "cell_type": "code",
   "execution_count": 20,
   "id": "9d1768df",
   "metadata": {},
   "outputs": [],
   "source": [
    "correlations = np.zeros((len(primary_branch), len(primary_branch)))\n",
    "for i in range(len(primary_branch)):\n",
    "    for j in range(i, len(primary_branch)):\n",
    "        correlations[j,i] = correlations[i,j] = neuron.prot_prot_Pearson_correlation(primary_branch[i],primary_branch[j])\n",
    "print(\"Pearson correlations coefficients of protein counts in primary dendrite:\\n\", correlations)"
   ]
  },
  {
   "cell_type": "markdown",
   "id": "5ef82ae4",
   "metadata": {},
   "source": [
    "We can visualise the above computed PCC matrix using Matplotlib."
   ]
  },
  {
   "cell_type": "code",
   "execution_count": 21,
   "id": "a4101b23",
   "metadata": {},
   "outputs": [],
   "source": [
    "import matplotlib.pyplot as plt\n",
    "\n",
    "# Add a color bar\n",
    "im = plt.imshow(correlations)\n",
    "\n",
    "cbar = plt.colorbar(im)\n",
    "cbar.set_label(\"Pearson Correlation Coefficient\")\n",
    "\n",
    "# Add title and labels\n",
    "plt.title(\"Pearson correlations for protein counts\")\n",
    "plt.xlabel(\"Compartment index on primary dendrite\")\n",
    "plt.ylabel(\"Compartment index on primary dendrite\")\n",
    "\n",
    "plt.tight_layout()\n",
    "plt.show()"
   ]
  },
  {
   "cell_type": "markdown",
   "id": "f3260e95",
   "metadata": {},
   "source": [
    "## Monte Carlo simulation\n",
    "The above computations allow obtaining expectations and correlations of all variables in the model without resorting to stochastic simulation. However, sometimes it is useful to look at individual trajectories of the process, which can be obtained using the Gillespie algorithm as follows.\n"
   ]
  },
  {
   "cell_type": "code",
   "execution_count": 22,
   "id": "25e7c53d",
   "metadata": {},
   "outputs": [],
   "source": [
    "# sim_results = neuron.stationary_Gillespie_sim(record_times=range(0,3000,1), output_file_name='soma_prot_trafficking')\n",
    "sim_results = neuron.load_Gillespie_sim('soma_prot_trafficking.csv')"
   ]
  },
  {
   "cell_type": "markdown",
   "id": "9a0c2241",
   "metadata": {},
   "source": [
    "Now let's visualise the dependence of protein counts in spine s_12_2 on time. (Change s_12_2 in compartment = s_12_2 to any other compartment e.g. soma or primary_branch[2] to see the corresponding results for that compartment.)"
   ]
  },
  {
   "cell_type": "code",
   "execution_count": 23,
   "id": "27372f86",
   "metadata": {},
   "outputs": [],
   "source": [
    "compartment = soma\n",
    "\n",
    "plt.plot(sim_results['time'], sim_results[compartment.name() + '_prot'], color='blue', label='Gillespie trajectory')\n",
    "plt.axhline(expectations['prot'][compartment.name()], color='cyan', alpha=.7, linewidth=2, label='Stationary expectation')\n",
    "\n",
    "# Plotting stationary standard deviation\n",
    "std = neuron.protein_standard_deviation(compartment)\n",
    "plt.axhline(expectations['prot'][compartment.name()] + std, color='cyan', alpha=.7, linewidth=2, label='Stationary expectation' + r'$\\pm\\sigma$', linestyle='--')\n",
    "plt.axhline(expectations['prot'][compartment.name()] - std, color='cyan', alpha=.7, linewidth=2, linestyle='--')\n",
    "\n",
    "plt.xlim([0, max(sim_results['time'])])\n",
    "\n",
    "plt.xlabel('Time in hours')\n",
    "plt.ylabel('Protein count')\n",
    "\n",
    "plt.legend()\n",
    "plt.show()"
   ]
  },
  {
   "cell_type": "markdown",
   "id": "3bab286f",
   "metadata": {},
   "source": [
    "To analyse correlations between different variables it is useful to plot them against each other. Below, we do this and compare the results with a bivariate Gaussian distribution with the exact mean and covariance matrix."
   ]
  },
  {
   "cell_type": "code",
   "execution_count": 24,
   "id": "3db3bd1c",
   "metadata": {},
   "outputs": [],
   "source": [
    "comp1, comp2 = s_1_1, s_12_2\n",
    "\n",
    "plt.plot(sim_results[comp1.name()+'_prot'], sim_results[comp2.name()+'_prot'], color='blue', label='Gillespie trajectory', linestyle='', marker='.')\n",
    "plt.plot(expectations['prot'][comp1.name()], expectations['prot'][comp2.name()], color='red', alpha=.7, label='Stationary expectation', marker='+', markersize=15, linestyle='')\n",
    "\n",
    "# Creating bivariate Gaussian\n",
    "mean = [expectations['prot'][comp1.name()], expectations['prot'][comp2.name()]]\n",
    "std = [neuron.protein_standard_deviation(comp1), neuron.protein_standard_deviation(comp2)]\n",
    "\n",
    "Sigma = np.array([[std[0]**2, neuron.prot_prot_covariance(s_12_1, s_12_2)],\n",
    "                 [neuron.prot_prot_covariance(s_12_1, s_12_2), std[1]**2]])\n",
    "\n",
    "# Create grid for PDF visualization\n",
    "x = np.linspace(mean[0] - 3*std[0], mean[0] + 3*std[0], 100)\n",
    "y = np.linspace(mean[1] - 3*std[1], mean[1] + 3*std[1], 100)\n",
    "X, Y = np.meshgrid(x, y)\n",
    "pos = np.dstack((X, Y))\n",
    "\n",
    "# Compute PDF values\n",
    "from scipy.stats import multivariate_normal\n",
    "rv = multivariate_normal(mean, Sigma)\n",
    "Z = rv.pdf(pos)\n",
    "\n",
    "plt.contour(X, Y, Z, levels=5, alpha=.7, cmap='plasma')\n",
    "\n",
    "plt.xlabel('Protein count')\n",
    "plt.ylabel('Protein count')\n",
    "\n",
    "plt.legend()\n",
    "plt.show()"
   ]
  },
  {
   "cell_type": "markdown",
   "id": "cfa50e9a",
   "metadata": {},
   "source": [
    "## Nonstationary moments and simulation"
   ]
  },
  {
   "cell_type": "markdown",
   "id": "3fe840fc",
   "metadata": {},
   "source": [
    "Above we looked at how to compute moments of the stationary distribution of all variables in the model and how to sample from such distribution using the Gillespie algorithm. However, we can simulate the behaviour of the model from an arbitrary initial condition and look at how our gene-mRNA-protein system reaches stationarity. For example, we can run"
   ]
  },
  {
   "cell_type": "code",
   "execution_count": 25,
   "id": "7e01e037",
   "metadata": {},
   "outputs": [],
   "source": [
    "neuron.reset()"
   ]
  },
  {
   "cell_type": "markdown",
   "id": "d797ca1d",
   "metadata": {},
   "source": [
    "Now let's run the simulation and visualise the dependence of soma protein counts on time."
   ]
  },
  {
   "cell_type": "code",
   "execution_count": 26,
   "id": "1713f88d",
   "metadata": {},
   "outputs": [],
   "source": [
    "sim_results = neuron.Gillespie_sim(range(1000), output_file_name=\"nonstationary_Gillespie\")\n",
    "\n",
    "compartment = soma\n",
    "\n",
    "plt.plot(sim_results['time'], sim_results[compartment.name() + '_prot'], color='blue', label='Gillespie trajectory')\n",
    "plt.axhline(expectations['prot'][compartment.name()], color='cyan', alpha=.7, linewidth=2, label='Stationary expectation')\n",
    "\n",
    "# Plotting stationary standard deviation\n",
    "std = neuron.protein_standard_deviation(compartment)\n",
    "plt.axhline(expectations['prot'][compartment.name()] + std, color='cyan', alpha=.7, linewidth=2, label='Stationary expectation' + r'$\\pm\\sigma$', linestyle='--')\n",
    "plt.axhline(expectations['prot'][compartment.name()] - std, color='cyan', alpha=.7, linewidth=2, linestyle='--')\n",
    "\n",
    "plt.xlim([0, max(sim_results['time'])])\n",
    "\n",
    "plt.xlabel('Time in hours')\n",
    "plt.ylabel('Protein count')\n",
    "\n",
    "plt.legend()\n",
    "plt.show()"
   ]
  },
  {
   "cell_type": "markdown",
   "id": "c8c60818",
   "metadata": {},
   "source": [
    "Now, unlike for stationary_Gillespie_sim we used above, the output of the function reports \"Number of burn-in events: 0\" meaning that Gillespie_sim function started recording without waiting until the system reached stationarity. The unrecorded burn-in time can be set manually using the corresponding argument of the function as shown below."
   ]
  },
  {
   "cell_type": "code",
   "execution_count": 27,
   "id": "03682a74",
   "metadata": {},
   "outputs": [],
   "source": [
    "new_sim_results = neuron.Gillespie_sim(range(100), burn_in=10)\n",
    "\n",
    "compartment = soma\n",
    "\n",
    "plt.plot(new_sim_results['time'], new_sim_results[compartment.name() + '_prot'], color='blue', label='Gillespie trajectory')\n",
    "plt.axhline(expectations['prot'][compartment.name()], color='cyan', alpha=.7, linewidth=2, label='Stationary expectation')\n",
    "\n",
    "# Plotting stationary standard deviation\n",
    "std = neuron.protein_standard_deviation(compartment)\n",
    "plt.axhline(expectations['prot'][compartment.name()] + std, color='cyan', alpha=.7, linewidth=2, label='Stationary expectation' + r'$\\pm\\sigma$', linestyle='--')\n",
    "plt.axhline(expectations['prot'][compartment.name()] - std, color='cyan', alpha=.7, linewidth=2, linestyle='--')\n",
    "\n",
    "plt.xlim([0, max(new_sim_results['time'])])\n",
    "\n",
    "plt.xlabel('Time in hours')\n",
    "plt.ylabel('Protein count')\n",
    "\n",
    "plt.legend()\n",
    "plt.show()"
   ]
  },
  {
   "cell_type": "markdown",
   "id": "e477af77",
   "metadata": {},
   "source": [
    "We can see that running the Gillespie_sim function does not reinitialise the system by default, but will reset all variables to zero if the reset argument is set to True."
   ]
  },
  {
   "cell_type": "markdown",
   "id": "cb01dbf0",
   "metadata": {},
   "source": [
    "### Nonstationary moments\n",
    "Now let's look at how to compute the nonstationary moments of all variables without the computationally expensive Monte Carlo simulation. \n"
   ]
  },
  {
   "cell_type": "code",
   "execution_count": null,
   "id": "aef7fb4b",
   "metadata": {},
   "outputs": [],
   "source": []
  },
  {
   "cell_type": "markdown",
   "id": "9104b0e1",
   "metadata": {},
   "source": [
    "## Changing the parameters"
   ]
  },
  {
   "cell_type": "markdown",
   "id": "2a74935a",
   "metadata": {},
   "source": [
    "## Working with neurons from .swc files"
   ]
  },
  {
   "cell_type": "code",
   "execution_count": 28,
   "id": "94cd820c",
   "metadata": {
    "scrolled": true
   },
   "outputs": [],
   "source": [
    "# Creating a new neuron specified in .swc file\n",
    "# neuron = sg.Neuron(\"../data/morphologies/10_2REDO-850-GM18-Ctl-Ctl-Chow-BNL16A-CA1_Finished2e.swc\")\n",
    "swc_neuron = sg.Neuron(\"../data/morphologies/DD13-10-c6-2.CNG.swc\")\n",
    "# Computing expectations\n",
    "swc_expectations = swc_neuron.expected_counts()\n",
    "# Visualising\n",
    "swc_neuron.draw_3d(swc_expectations['prot'])"
   ]
  },
  {
   "cell_type": "code",
   "execution_count": 29,
   "id": "2fbb7ccd",
   "metadata": {},
   "outputs": [],
   "source": [
    "sys.path.append('../build')\n",
    "import _SGEN_Py as _sg\n",
    "\n",
    "soma_  = sg.Soma(name='soma_')\n",
    "\n",
    "_neuron = _sg._Neuron(soma_)"
   ]
  },
  {
   "cell_type": "code",
   "execution_count": 30,
   "id": "31b0b604",
   "metadata": {},
   "outputs": [],
   "source": [
    "print(_neuron)"
   ]
  },
  {
   "cell_type": "code",
   "execution_count": 31,
   "id": "efa73d14",
   "metadata": {},
   "outputs": [],
   "source": [
    "ae = _sg._Analytic_engine(_neuron)"
   ]
  },
  {
   "cell_type": "code",
   "execution_count": 32,
   "id": "49df978a",
   "metadata": {},
   "outputs": [],
   "source": [
    "ae.active_genes_expectation()\n",
    "ae.stationary_mRNA_expectations()"
   ]
  },
  {
   "cell_type": "code",
   "execution_count": null,
   "id": "4caf67d5",
   "metadata": {},
   "outputs": [],
   "source": []
  }
 ],
 "metadata": {
  "kernelspec": {
   "display_name": "Python 3 (ipykernel)",
   "language": "python",
   "name": "python3"
  },
  "language_info": {
   "codemirror_mode": {
    "name": "ipython",
    "version": 3
   },
   "file_extension": ".py",
   "mimetype": "text/x-python",
   "name": "python",
   "nbconvert_exporter": "python",
   "pygments_lexer": "ipython3",
   "version": "3.8.10"
  }
 },
 "nbformat": 4,
 "nbformat_minor": 5
}
